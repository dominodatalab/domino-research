{
  "nbformat": 4,
  "nbformat_minor": 2,
  "metadata": {
    "colab": {
      "name": "Flare_calculate_stats.ipynb",
      "provenance": [],
      "collapsed_sections": []
    },
    "kernelspec": {
      "name": "python3",
      "display_name": "Python 3.9.0 64-bit ('bridge': pyenv)"
    },
    "language_info": {
      "name": "python",
      "version": "3.9.0",
      "mimetype": "text/x-python",
      "codemirror_mode": {
        "name": "ipython",
        "version": 3
      },
      "pygments_lexer": "ipython3",
      "nbconvert_exporter": "python",
      "file_extension": ".py"
    },
    "interpreter": {
      "hash": "4980b918a51bc5aeb5085773e65ab1c4c898351286f421232e7797a688d8499e"
    }
  },
  "cells": [
    {
      "cell_type": "markdown",
      "source": [
        "# Known issues with type detection\n",
        "\n",
        "https://pandas.pydata.org/docs/user_guide/basics.html#basics-dtypes\n",
        "https://pandas.pydata.org/docs/user_guide/integer_na.html#integer-na\n",
        "\n",
        "For now, we do something incredibly naive: use the infered type directly. This has some obvious quirks:\n",
        "\n",
        "- By default, if there are missing values in an int column, it will \n",
        "be cast to float64 instead of a nullable int type like int32D. This means directly infering type from the column types will be faulty with missing values. https://stackoverflow.com/questions/21287624/convert-pandas-column-containing-nans-to-dtype-int\n",
        "\n",
        "- The object type is used both for pure string columns and mixed columns. This means one cannot reliably detect string types. We do something to try work around this for small datasets\n",
        "\n"
      ],
      "metadata": {
        "id": "D-N91ILFMLQd"
      }
    },
    {
      "cell_type": "code",
      "execution_count": 1,
      "source": [
        "import pandas as pd\n",
        "import numpy as np"
      ],
      "outputs": [],
      "metadata": {
        "id": "khoUTU3pF1VM"
      }
    },
    {
      "cell_type": "code",
      "execution_count": 2,
      "source": [
        "N_cols_per_type = 4\n",
        "N_per_col = 1000\n",
        "\n",
        "ints_df = pd.DataFrame(\n",
        "    np.random.randint(0,100,size=(N_per_col, N_cols_per_type)),\n",
        "    columns=[f\"int_{n}\" for n in range(N_cols_per_type)]\n",
        ")\n",
        "\n",
        "floats_df = pd.DataFrame(\n",
        "    np.random.random(size=(N_per_col, N_cols_per_type)),\n",
        "    columns=[f\"float_{n}\" for n in range(N_cols_per_type)]\n",
        ")\n",
        "\n",
        "strings_df = pd.DataFrame(\n",
        "    np.random.choice(\n",
        "        [\"eeny\", \"meeny\", \"miny\", \"moe\"],\n",
        "        size=(N_per_col, N_cols_per_type)\n",
        "    ),\n",
        "    columns=[f\"str_{n}\" for n in range(N_cols_per_type)]\n",
        ")\n",
        "\n",
        "full_df = pd.concat([ints_df, floats_df, strings_df], axis=1)"
      ],
      "outputs": [],
      "metadata": {
        "id": "BSqT4oV2GAUe"
      }
    },
    {
      "cell_type": "code",
      "execution_count": 3,
      "source": [
        "full_df.head()"
      ],
      "outputs": [
        {
          "output_type": "execute_result",
          "data": {
            "text/plain": [
              "   int_0  int_1  int_2  int_3   float_0   float_1   float_2   float_3  str_0  \\\n",
              "0     94     66     45     73  0.879347  0.771386  0.670628  0.824132   miny   \n",
              "1     57     58     75     32  0.849250  0.218199  0.576388  0.154711    moe   \n",
              "2     31     69     82     15  0.920094  0.470284  0.613510  0.801468  meeny   \n",
              "3     56     27     71     52  0.431131  0.806534  0.340942  0.209477   eeny   \n",
              "4     50      4      3      1  0.685177  0.692360  0.926932  0.409046   eeny   \n",
              "\n",
              "   str_1  str_2 str_3  \n",
              "0   miny   eeny  miny  \n",
              "1  meeny   eeny   moe  \n",
              "2   miny   miny   moe  \n",
              "3   eeny   miny  miny  \n",
              "4    moe  meeny  miny  "
            ],
            "text/html": [
              "<div>\n",
              "<style scoped>\n",
              "    .dataframe tbody tr th:only-of-type {\n",
              "        vertical-align: middle;\n",
              "    }\n",
              "\n",
              "    .dataframe tbody tr th {\n",
              "        vertical-align: top;\n",
              "    }\n",
              "\n",
              "    .dataframe thead th {\n",
              "        text-align: right;\n",
              "    }\n",
              "</style>\n",
              "<table border=\"1\" class=\"dataframe\">\n",
              "  <thead>\n",
              "    <tr style=\"text-align: right;\">\n",
              "      <th></th>\n",
              "      <th>int_0</th>\n",
              "      <th>int_1</th>\n",
              "      <th>int_2</th>\n",
              "      <th>int_3</th>\n",
              "      <th>float_0</th>\n",
              "      <th>float_1</th>\n",
              "      <th>float_2</th>\n",
              "      <th>float_3</th>\n",
              "      <th>str_0</th>\n",
              "      <th>str_1</th>\n",
              "      <th>str_2</th>\n",
              "      <th>str_3</th>\n",
              "    </tr>\n",
              "  </thead>\n",
              "  <tbody>\n",
              "    <tr>\n",
              "      <th>0</th>\n",
              "      <td>94</td>\n",
              "      <td>66</td>\n",
              "      <td>45</td>\n",
              "      <td>73</td>\n",
              "      <td>0.879347</td>\n",
              "      <td>0.771386</td>\n",
              "      <td>0.670628</td>\n",
              "      <td>0.824132</td>\n",
              "      <td>miny</td>\n",
              "      <td>miny</td>\n",
              "      <td>eeny</td>\n",
              "      <td>miny</td>\n",
              "    </tr>\n",
              "    <tr>\n",
              "      <th>1</th>\n",
              "      <td>57</td>\n",
              "      <td>58</td>\n",
              "      <td>75</td>\n",
              "      <td>32</td>\n",
              "      <td>0.849250</td>\n",
              "      <td>0.218199</td>\n",
              "      <td>0.576388</td>\n",
              "      <td>0.154711</td>\n",
              "      <td>moe</td>\n",
              "      <td>meeny</td>\n",
              "      <td>eeny</td>\n",
              "      <td>moe</td>\n",
              "    </tr>\n",
              "    <tr>\n",
              "      <th>2</th>\n",
              "      <td>31</td>\n",
              "      <td>69</td>\n",
              "      <td>82</td>\n",
              "      <td>15</td>\n",
              "      <td>0.920094</td>\n",
              "      <td>0.470284</td>\n",
              "      <td>0.613510</td>\n",
              "      <td>0.801468</td>\n",
              "      <td>meeny</td>\n",
              "      <td>miny</td>\n",
              "      <td>miny</td>\n",
              "      <td>moe</td>\n",
              "    </tr>\n",
              "    <tr>\n",
              "      <th>3</th>\n",
              "      <td>56</td>\n",
              "      <td>27</td>\n",
              "      <td>71</td>\n",
              "      <td>52</td>\n",
              "      <td>0.431131</td>\n",
              "      <td>0.806534</td>\n",
              "      <td>0.340942</td>\n",
              "      <td>0.209477</td>\n",
              "      <td>eeny</td>\n",
              "      <td>eeny</td>\n",
              "      <td>miny</td>\n",
              "      <td>miny</td>\n",
              "    </tr>\n",
              "    <tr>\n",
              "      <th>4</th>\n",
              "      <td>50</td>\n",
              "      <td>4</td>\n",
              "      <td>3</td>\n",
              "      <td>1</td>\n",
              "      <td>0.685177</td>\n",
              "      <td>0.692360</td>\n",
              "      <td>0.926932</td>\n",
              "      <td>0.409046</td>\n",
              "      <td>eeny</td>\n",
              "      <td>moe</td>\n",
              "      <td>meeny</td>\n",
              "      <td>miny</td>\n",
              "    </tr>\n",
              "  </tbody>\n",
              "</table>\n",
              "</div>"
            ]
          },
          "metadata": {},
          "execution_count": 3
        }
      ],
      "metadata": {
        "colab": {
          "base_uri": "https://localhost:8080/",
          "height": 204
        },
        "id": "p323r_UGHB3_",
        "outputId": "f6e29cb8-9071-4a03-c89b-54979d061aa8"
      }
    },
    {
      "cell_type": "code",
      "execution_count": 4,
      "source": [
        "null_targets = {\n",
        "    \"int_0\": 0.1,\n",
        "    \"float_0\": 0.2,\n",
        "    \"str_0\": 0.3\n",
        "}\n",
        "\n",
        "for target_col, target_frac in null_targets.items():\n",
        "  indeces = np.random.choice(range(N_per_col), size=int(N_per_col*target_frac), replace=False)\n",
        "  full_df.loc[indeces, target_col] = None"
      ],
      "outputs": [],
      "metadata": {
        "id": "QvK9-FOnIDcl"
      }
    },
    {
      "cell_type": "code",
      "execution_count": 5,
      "source": [
        "full_df"
      ],
      "outputs": [
        {
          "output_type": "execute_result",
          "data": {
            "text/plain": [
              "     int_0  int_1  int_2  int_3   float_0   float_1   float_2   float_3 str_0  \\\n",
              "0     94.0     66     45     73  0.879347  0.771386  0.670628  0.824132  None   \n",
              "1      NaN     58     75     32  0.849250  0.218199  0.576388  0.154711  None   \n",
              "2     31.0     69     82     15  0.920094  0.470284  0.613510  0.801468  None   \n",
              "3     56.0     27     71     52  0.431131  0.806534  0.340942  0.209477  None   \n",
              "4     50.0      4      3      1  0.685177  0.692360  0.926932  0.409046  eeny   \n",
              "..     ...    ...    ...    ...       ...       ...       ...       ...   ...   \n",
              "995    NaN     21      0     76  0.117591  0.482974  0.581569  0.770461  eeny   \n",
              "996   16.0      5     79     43  0.670093  0.212384  0.665407  0.601058  None   \n",
              "997   84.0     94     75     26  0.389107  0.939397  0.391561  0.996783  miny   \n",
              "998   80.0     62     51      3  0.900197  0.259002  0.297772  0.595164  eeny   \n",
              "999    7.0     94     89     34  0.384507  0.978375  0.233043  0.139848  None   \n",
              "\n",
              "     str_1  str_2  str_3  \n",
              "0     miny   eeny   miny  \n",
              "1    meeny   eeny    moe  \n",
              "2     miny   miny    moe  \n",
              "3     eeny   miny   miny  \n",
              "4      moe  meeny   miny  \n",
              "..     ...    ...    ...  \n",
              "995   miny    moe   miny  \n",
              "996   eeny    moe  meeny  \n",
              "997   eeny   miny    moe  \n",
              "998    moe    moe   miny  \n",
              "999   miny  meeny    moe  \n",
              "\n",
              "[1000 rows x 12 columns]"
            ],
            "text/html": [
              "<div>\n",
              "<style scoped>\n",
              "    .dataframe tbody tr th:only-of-type {\n",
              "        vertical-align: middle;\n",
              "    }\n",
              "\n",
              "    .dataframe tbody tr th {\n",
              "        vertical-align: top;\n",
              "    }\n",
              "\n",
              "    .dataframe thead th {\n",
              "        text-align: right;\n",
              "    }\n",
              "</style>\n",
              "<table border=\"1\" class=\"dataframe\">\n",
              "  <thead>\n",
              "    <tr style=\"text-align: right;\">\n",
              "      <th></th>\n",
              "      <th>int_0</th>\n",
              "      <th>int_1</th>\n",
              "      <th>int_2</th>\n",
              "      <th>int_3</th>\n",
              "      <th>float_0</th>\n",
              "      <th>float_1</th>\n",
              "      <th>float_2</th>\n",
              "      <th>float_3</th>\n",
              "      <th>str_0</th>\n",
              "      <th>str_1</th>\n",
              "      <th>str_2</th>\n",
              "      <th>str_3</th>\n",
              "    </tr>\n",
              "  </thead>\n",
              "  <tbody>\n",
              "    <tr>\n",
              "      <th>0</th>\n",
              "      <td>94.0</td>\n",
              "      <td>66</td>\n",
              "      <td>45</td>\n",
              "      <td>73</td>\n",
              "      <td>0.879347</td>\n",
              "      <td>0.771386</td>\n",
              "      <td>0.670628</td>\n",
              "      <td>0.824132</td>\n",
              "      <td>None</td>\n",
              "      <td>miny</td>\n",
              "      <td>eeny</td>\n",
              "      <td>miny</td>\n",
              "    </tr>\n",
              "    <tr>\n",
              "      <th>1</th>\n",
              "      <td>NaN</td>\n",
              "      <td>58</td>\n",
              "      <td>75</td>\n",
              "      <td>32</td>\n",
              "      <td>0.849250</td>\n",
              "      <td>0.218199</td>\n",
              "      <td>0.576388</td>\n",
              "      <td>0.154711</td>\n",
              "      <td>None</td>\n",
              "      <td>meeny</td>\n",
              "      <td>eeny</td>\n",
              "      <td>moe</td>\n",
              "    </tr>\n",
              "    <tr>\n",
              "      <th>2</th>\n",
              "      <td>31.0</td>\n",
              "      <td>69</td>\n",
              "      <td>82</td>\n",
              "      <td>15</td>\n",
              "      <td>0.920094</td>\n",
              "      <td>0.470284</td>\n",
              "      <td>0.613510</td>\n",
              "      <td>0.801468</td>\n",
              "      <td>None</td>\n",
              "      <td>miny</td>\n",
              "      <td>miny</td>\n",
              "      <td>moe</td>\n",
              "    </tr>\n",
              "    <tr>\n",
              "      <th>3</th>\n",
              "      <td>56.0</td>\n",
              "      <td>27</td>\n",
              "      <td>71</td>\n",
              "      <td>52</td>\n",
              "      <td>0.431131</td>\n",
              "      <td>0.806534</td>\n",
              "      <td>0.340942</td>\n",
              "      <td>0.209477</td>\n",
              "      <td>None</td>\n",
              "      <td>eeny</td>\n",
              "      <td>miny</td>\n",
              "      <td>miny</td>\n",
              "    </tr>\n",
              "    <tr>\n",
              "      <th>4</th>\n",
              "      <td>50.0</td>\n",
              "      <td>4</td>\n",
              "      <td>3</td>\n",
              "      <td>1</td>\n",
              "      <td>0.685177</td>\n",
              "      <td>0.692360</td>\n",
              "      <td>0.926932</td>\n",
              "      <td>0.409046</td>\n",
              "      <td>eeny</td>\n",
              "      <td>moe</td>\n",
              "      <td>meeny</td>\n",
              "      <td>miny</td>\n",
              "    </tr>\n",
              "    <tr>\n",
              "      <th>...</th>\n",
              "      <td>...</td>\n",
              "      <td>...</td>\n",
              "      <td>...</td>\n",
              "      <td>...</td>\n",
              "      <td>...</td>\n",
              "      <td>...</td>\n",
              "      <td>...</td>\n",
              "      <td>...</td>\n",
              "      <td>...</td>\n",
              "      <td>...</td>\n",
              "      <td>...</td>\n",
              "      <td>...</td>\n",
              "    </tr>\n",
              "    <tr>\n",
              "      <th>995</th>\n",
              "      <td>NaN</td>\n",
              "      <td>21</td>\n",
              "      <td>0</td>\n",
              "      <td>76</td>\n",
              "      <td>0.117591</td>\n",
              "      <td>0.482974</td>\n",
              "      <td>0.581569</td>\n",
              "      <td>0.770461</td>\n",
              "      <td>eeny</td>\n",
              "      <td>miny</td>\n",
              "      <td>moe</td>\n",
              "      <td>miny</td>\n",
              "    </tr>\n",
              "    <tr>\n",
              "      <th>996</th>\n",
              "      <td>16.0</td>\n",
              "      <td>5</td>\n",
              "      <td>79</td>\n",
              "      <td>43</td>\n",
              "      <td>0.670093</td>\n",
              "      <td>0.212384</td>\n",
              "      <td>0.665407</td>\n",
              "      <td>0.601058</td>\n",
              "      <td>None</td>\n",
              "      <td>eeny</td>\n",
              "      <td>moe</td>\n",
              "      <td>meeny</td>\n",
              "    </tr>\n",
              "    <tr>\n",
              "      <th>997</th>\n",
              "      <td>84.0</td>\n",
              "      <td>94</td>\n",
              "      <td>75</td>\n",
              "      <td>26</td>\n",
              "      <td>0.389107</td>\n",
              "      <td>0.939397</td>\n",
              "      <td>0.391561</td>\n",
              "      <td>0.996783</td>\n",
              "      <td>miny</td>\n",
              "      <td>eeny</td>\n",
              "      <td>miny</td>\n",
              "      <td>moe</td>\n",
              "    </tr>\n",
              "    <tr>\n",
              "      <th>998</th>\n",
              "      <td>80.0</td>\n",
              "      <td>62</td>\n",
              "      <td>51</td>\n",
              "      <td>3</td>\n",
              "      <td>0.900197</td>\n",
              "      <td>0.259002</td>\n",
              "      <td>0.297772</td>\n",
              "      <td>0.595164</td>\n",
              "      <td>eeny</td>\n",
              "      <td>moe</td>\n",
              "      <td>moe</td>\n",
              "      <td>miny</td>\n",
              "    </tr>\n",
              "    <tr>\n",
              "      <th>999</th>\n",
              "      <td>7.0</td>\n",
              "      <td>94</td>\n",
              "      <td>89</td>\n",
              "      <td>34</td>\n",
              "      <td>0.384507</td>\n",
              "      <td>0.978375</td>\n",
              "      <td>0.233043</td>\n",
              "      <td>0.139848</td>\n",
              "      <td>None</td>\n",
              "      <td>miny</td>\n",
              "      <td>meeny</td>\n",
              "      <td>moe</td>\n",
              "    </tr>\n",
              "  </tbody>\n",
              "</table>\n",
              "<p>1000 rows × 12 columns</p>\n",
              "</div>"
            ]
          },
          "metadata": {},
          "execution_count": 5
        }
      ],
      "metadata": {
        "colab": {
          "base_uri": "https://localhost:8080/",
          "height": 439
        },
        "id": "o6PkGl3eJyPp",
        "outputId": "99e8f3b2-bd66-4fa9-c615-771976ab24eb"
      }
    },
    {
      "cell_type": "code",
      "execution_count": 6,
      "source": [
        "full_df.dtypes"
      ],
      "outputs": [
        {
          "output_type": "execute_result",
          "data": {
            "text/plain": [
              "int_0      float64\n",
              "int_1        int64\n",
              "int_2        int64\n",
              "int_3        int64\n",
              "float_0    float64\n",
              "float_1    float64\n",
              "float_2    float64\n",
              "float_3    float64\n",
              "str_0       object\n",
              "str_1       object\n",
              "str_2       object\n",
              "str_3       object\n",
              "dtype: object"
            ]
          },
          "metadata": {},
          "execution_count": 6
        }
      ],
      "metadata": {
        "colab": {
          "base_uri": "https://localhost:8080/"
        },
        "id": "Ctj8BW6RLPJQ",
        "outputId": "29c5baf4-a806-43ea-b840-36a0952727d4"
      }
    },
    {
      "cell_type": "code",
      "execution_count": 7,
      "source": [
        "from monitor.generators import gen_constraints, gen_statistics"
      ],
      "outputs": [],
      "metadata": {}
    },
    {
      "cell_type": "code",
      "execution_count": 9,
      "source": [
        "gen_constraints(full_df)"
      ],
      "outputs": [
        {
          "output_type": "execute_result",
          "data": {
            "text/plain": [
              "Constraints(features=[Feature(name='int_0', inferred_type=<FeatureType.FRACTIONAL: 'fractional'>, completeness=0.9, num_constraints=NumericalConstraints(is_non_negative=True), string_constraints=None, monitoringConfigOverrides=None), Feature(name='int_1', inferred_type=<FeatureType.INTEGRAL: 'integral'>, completeness=1.0, num_constraints=NumericalConstraints(is_non_negative=True), string_constraints=None, monitoringConfigOverrides=None), Feature(name='int_2', inferred_type=<FeatureType.INTEGRAL: 'integral'>, completeness=1.0, num_constraints=NumericalConstraints(is_non_negative=True), string_constraints=None, monitoringConfigOverrides=None), Feature(name='int_3', inferred_type=<FeatureType.INTEGRAL: 'integral'>, completeness=1.0, num_constraints=NumericalConstraints(is_non_negative=True), string_constraints=None, monitoringConfigOverrides=None), Feature(name='float_0', inferred_type=<FeatureType.FRACTIONAL: 'fractional'>, completeness=0.8, num_constraints=NumericalConstraints(is_non_negative=True), string_constraints=None, monitoringConfigOverrides=None), Feature(name='float_1', inferred_type=<FeatureType.FRACTIONAL: 'fractional'>, completeness=1.0, num_constraints=NumericalConstraints(is_non_negative=True), string_constraints=None, monitoringConfigOverrides=None), Feature(name='float_2', inferred_type=<FeatureType.FRACTIONAL: 'fractional'>, completeness=1.0, num_constraints=NumericalConstraints(is_non_negative=True), string_constraints=None, monitoringConfigOverrides=None), Feature(name='float_3', inferred_type=<FeatureType.FRACTIONAL: 'fractional'>, completeness=1.0, num_constraints=NumericalConstraints(is_non_negative=True), string_constraints=None, monitoringConfigOverrides=None), Feature(name='str_0', inferred_type=<FeatureType.UNKNOWN: 'unknown'>, completeness=0.7, num_constraints=None, string_constraints=None, monitoringConfigOverrides=None), Feature(name='str_1', inferred_type=<FeatureType.STRING: 'string'>, completeness=1.0, num_constraints=None, string_constraints=StringConstraints(domains=['miny', 'meeny', 'eeny', 'moe']), monitoringConfigOverrides=None), Feature(name='str_2', inferred_type=<FeatureType.STRING: 'string'>, completeness=1.0, num_constraints=None, string_constraints=StringConstraints(domains=['eeny', 'miny', 'meeny', 'moe']), monitoringConfigOverrides=None), Feature(name='str_3', inferred_type=<FeatureType.STRING: 'string'>, completeness=1.0, num_constraints=None, string_constraints=StringConstraints(domains=['miny', 'moe', 'meeny', 'eeny']), monitoringConfigOverrides=None)], monitoring_config=MonitoringConfig(distribution_constraints=DistributionConstraints(perform_comparison='Enabled', comparison_threshold=0.1, comparison_method='Simple'), evaluate_constraints='Enabled', emit_metrics='Enabled', datatype_check_threshold=0.1, domain_content_threshold=0.1), version=0)"
            ]
          },
          "metadata": {},
          "execution_count": 9
        }
      ],
      "metadata": {}
    },
    {
      "cell_type": "code",
      "execution_count": 10,
      "source": [
        "gen_statistics(full_df)"
      ],
      "outputs": [
        {
          "output_type": "execute_result",
          "data": {
            "text/plain": [
              "Statistics(dataset=Dataset(item_count=1000), version=0, features=[Feature(name='int_0', inferred_type=<FeatureType.FRACTIONAL: 'fractional'>, numerical_statistics=NumericalStatistics(common=CommonStatistics(num_present=900, num_missing=100), mean=47.80444444444444, sum=43024.0, std_dev=30.10348451595715, min=0.0, max=99.0, distribution=None), string_statistics=None), Feature(name='int_1', inferred_type=<FeatureType.INTEGRAL: 'integral'>, numerical_statistics=NumericalStatistics(common=CommonStatistics(num_present=1000, num_missing=0), mean=48.73, sum=48730, std_dev=28.693176861379406, min=0, max=99, distribution=None), string_statistics=None), Feature(name='int_2', inferred_type=<FeatureType.INTEGRAL: 'integral'>, numerical_statistics=NumericalStatistics(common=CommonStatistics(num_present=1000, num_missing=0), mean=51.777, sum=51777, std_dev=28.563703474097267, min=0, max=99, distribution=None), string_statistics=None), Feature(name='int_3', inferred_type=<FeatureType.INTEGRAL: 'integral'>, numerical_statistics=NumericalStatistics(common=CommonStatistics(num_present=1000, num_missing=0), mean=50.44, sum=50440, std_dev=28.51258261482757, min=0, max=99, distribution=None), string_statistics=None), Feature(name='float_0', inferred_type=<FeatureType.FRACTIONAL: 'fractional'>, numerical_statistics=NumericalStatistics(common=CommonStatistics(num_present=800, num_missing=200), mean=0.5099659153982299, sum=407.9727323185839, std_dev=0.28978864257553133, min=0.00014897904261346184, max=0.9987559224249167, distribution=None), string_statistics=None), Feature(name='float_1', inferred_type=<FeatureType.FRACTIONAL: 'fractional'>, numerical_statistics=NumericalStatistics(common=CommonStatistics(num_present=1000, num_missing=0), mean=0.5145970173127163, sum=514.5970173127164, std_dev=0.2826603154395296, min=0.0005875791135956376, max=0.9980909209179858, distribution=None), string_statistics=None), Feature(name='float_2', inferred_type=<FeatureType.FRACTIONAL: 'fractional'>, numerical_statistics=NumericalStatistics(common=CommonStatistics(num_present=1000, num_missing=0), mean=0.504887706707565, sum=504.88770670756503, std_dev=0.2898746898079867, min=0.0029908965295873946, max=0.9985710752932384, distribution=None), string_statistics=None), Feature(name='float_3', inferred_type=<FeatureType.FRACTIONAL: 'fractional'>, numerical_statistics=NumericalStatistics(common=CommonStatistics(num_present=1000, num_missing=0), mean=0.5151954363209498, sum=515.1954363209497, std_dev=0.28837780870943125, min=0.0007683892878103116, max=0.999736348986707, distribution=None), string_statistics=None), Feature(name='str_0', inferred_type=<FeatureType.UNKNOWN: 'unknown'>, numerical_statistics=None, string_statistics=None), Feature(name='str_1', inferred_type=<FeatureType.STRING: 'string'>, numerical_statistics=None, string_statistics=StringStatistics(common=CommonStatistics(num_present=1000, num_missing=0), distinct_count=4, distribution=None)), Feature(name='str_2', inferred_type=<FeatureType.STRING: 'string'>, numerical_statistics=None, string_statistics=StringStatistics(common=CommonStatistics(num_present=1000, num_missing=0), distinct_count=4, distribution=None)), Feature(name='str_3', inferred_type=<FeatureType.STRING: 'string'>, numerical_statistics=None, string_statistics=StringStatistics(common=CommonStatistics(num_present=1000, num_missing=0), distinct_count=4, distribution=None))])"
            ]
          },
          "metadata": {},
          "execution_count": 10
        }
      ],
      "metadata": {}
    },
    {
      "cell_type": "code",
      "execution_count": null,
      "source": [],
      "outputs": [],
      "metadata": {}
    }
  ]
}